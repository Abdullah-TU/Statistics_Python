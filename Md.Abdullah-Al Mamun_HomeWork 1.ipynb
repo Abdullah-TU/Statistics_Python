{
 "cells": [
  {
   "cell_type": "markdown",
   "id": "d9e5ee08",
   "metadata": {},
   "source": [
    "# HomeWork 1\n",
    "## Md. Abdullah-Al Mamun\n",
    "\n",
    "# 1.\tEvery group have  to download the Excel files:\n",
    "\n",
    "### Downloaded\n",
    "\n"
   ]
  },
  {
   "cell_type": "code",
   "execution_count": 1,
   "id": "4873ca67",
   "metadata": {},
   "outputs": [
    {
     "data": {
      "text/html": [
       "<div>\n",
       "<style scoped>\n",
       "    .dataframe tbody tr th:only-of-type {\n",
       "        vertical-align: middle;\n",
       "    }\n",
       "\n",
       "    .dataframe tbody tr th {\n",
       "        vertical-align: top;\n",
       "    }\n",
       "\n",
       "    .dataframe thead th {\n",
       "        text-align: right;\n",
       "    }\n",
       "</style>\n",
       "<table border=\"1\" class=\"dataframe\">\n",
       "  <thead>\n",
       "    <tr style=\"text-align: right;\">\n",
       "      <th></th>\n",
       "      <th>S1</th>\n",
       "      <th>S2</th>\n",
       "      <th>S3</th>\n",
       "    </tr>\n",
       "  </thead>\n",
       "  <tbody>\n",
       "    <tr>\n",
       "      <th>0</th>\n",
       "      <td>419</td>\n",
       "      <td>362</td>\n",
       "      <td>373</td>\n",
       "    </tr>\n",
       "    <tr>\n",
       "      <th>1</th>\n",
       "      <td>432</td>\n",
       "      <td>364</td>\n",
       "      <td>392</td>\n",
       "    </tr>\n",
       "    <tr>\n",
       "      <th>2</th>\n",
       "      <td>429</td>\n",
       "      <td>370</td>\n",
       "      <td>379</td>\n",
       "    </tr>\n",
       "    <tr>\n",
       "      <th>3</th>\n",
       "      <td>424</td>\n",
       "      <td>362</td>\n",
       "      <td>385</td>\n",
       "    </tr>\n",
       "    <tr>\n",
       "      <th>4</th>\n",
       "      <td>433</td>\n",
       "      <td>372</td>\n",
       "      <td>383</td>\n",
       "    </tr>\n",
       "  </tbody>\n",
       "</table>\n",
       "</div>"
      ],
      "text/plain": [
       "    S1   S2   S3\n",
       "0  419  362  373\n",
       "1  432  364  392\n",
       "2  429  370  379\n",
       "3  424  362  385\n",
       "4  433  372  383"
      ]
     },
     "execution_count": 1,
     "metadata": {},
     "output_type": "execute_result"
    }
   ],
   "source": [
    "import pandas as pd\n",
    "\n",
    "data = pd.read_excel('Group3.xlsx')\n",
    "\n",
    "data.head()"
   ]
  },
  {
   "cell_type": "code",
   "execution_count": 2,
   "id": "db3e3808",
   "metadata": {},
   "outputs": [
    {
     "data": {
      "text/html": [
       "<div>\n",
       "<style scoped>\n",
       "    .dataframe tbody tr th:only-of-type {\n",
       "        vertical-align: middle;\n",
       "    }\n",
       "\n",
       "    .dataframe tbody tr th {\n",
       "        vertical-align: top;\n",
       "    }\n",
       "\n",
       "    .dataframe thead th {\n",
       "        text-align: right;\n",
       "    }\n",
       "</style>\n",
       "<table border=\"1\" class=\"dataframe\">\n",
       "  <thead>\n",
       "    <tr style=\"text-align: right;\">\n",
       "      <th></th>\n",
       "      <th>S1</th>\n",
       "      <th>S2</th>\n",
       "      <th>S3</th>\n",
       "    </tr>\n",
       "  </thead>\n",
       "  <tbody>\n",
       "    <tr>\n",
       "      <th>count</th>\n",
       "      <td>138.000000</td>\n",
       "      <td>138.000000</td>\n",
       "      <td>138.000000</td>\n",
       "    </tr>\n",
       "    <tr>\n",
       "      <th>mean</th>\n",
       "      <td>435.028986</td>\n",
       "      <td>360.217391</td>\n",
       "      <td>366.934783</td>\n",
       "    </tr>\n",
       "    <tr>\n",
       "      <th>std</th>\n",
       "      <td>10.252963</td>\n",
       "      <td>9.174496</td>\n",
       "      <td>25.509468</td>\n",
       "    </tr>\n",
       "    <tr>\n",
       "      <th>min</th>\n",
       "      <td>409.000000</td>\n",
       "      <td>315.000000</td>\n",
       "      <td>289.000000</td>\n",
       "    </tr>\n",
       "    <tr>\n",
       "      <th>25%</th>\n",
       "      <td>428.250000</td>\n",
       "      <td>356.250000</td>\n",
       "      <td>355.000000</td>\n",
       "    </tr>\n",
       "    <tr>\n",
       "      <th>50%</th>\n",
       "      <td>434.000000</td>\n",
       "      <td>362.000000</td>\n",
       "      <td>376.000000</td>\n",
       "    </tr>\n",
       "    <tr>\n",
       "      <th>75%</th>\n",
       "      <td>442.000000</td>\n",
       "      <td>365.000000</td>\n",
       "      <td>384.750000</td>\n",
       "    </tr>\n",
       "    <tr>\n",
       "      <th>max</th>\n",
       "      <td>466.000000</td>\n",
       "      <td>380.000000</td>\n",
       "      <td>400.000000</td>\n",
       "    </tr>\n",
       "  </tbody>\n",
       "</table>\n",
       "</div>"
      ],
      "text/plain": [
       "               S1          S2          S3\n",
       "count  138.000000  138.000000  138.000000\n",
       "mean   435.028986  360.217391  366.934783\n",
       "std     10.252963    9.174496   25.509468\n",
       "min    409.000000  315.000000  289.000000\n",
       "25%    428.250000  356.250000  355.000000\n",
       "50%    434.000000  362.000000  376.000000\n",
       "75%    442.000000  365.000000  384.750000\n",
       "max    466.000000  380.000000  400.000000"
      ]
     },
     "execution_count": 2,
     "metadata": {},
     "output_type": "execute_result"
    }
   ],
   "source": [
    "data.describe()"
   ]
  },
  {
   "cell_type": "code",
   "execution_count": 3,
   "id": "164ba8af",
   "metadata": {},
   "outputs": [
    {
     "name": "stdout",
     "output_type": "stream",
     "text": [
      "<class 'pandas.core.frame.DataFrame'>\n",
      "RangeIndex: 138 entries, 0 to 137\n",
      "Data columns (total 3 columns):\n",
      " #   Column  Non-Null Count  Dtype\n",
      "---  ------  --------------  -----\n",
      " 0   S1      138 non-null    int64\n",
      " 1   S2      138 non-null    int64\n",
      " 2   S3      138 non-null    int64\n",
      "dtypes: int64(3)\n",
      "memory usage: 3.4 KB\n"
     ]
    }
   ],
   "source": [
    "data.info()"
   ]
  },
  {
   "cell_type": "code",
   "execution_count": 4,
   "id": "22a0b69d",
   "metadata": {},
   "outputs": [
    {
     "data": {
      "text/plain": [
       "(138, 3)"
      ]
     },
     "execution_count": 4,
     "metadata": {},
     "output_type": "execute_result"
    }
   ],
   "source": [
    "data.shape"
   ]
  },
  {
   "cell_type": "markdown",
   "id": "56711534",
   "metadata": {},
   "source": [
    "# 2.\tEach file has three recorded values of water flow recorded using three sensors S1,S2, and S3.\n",
    "\n",
    "### ○\tCompute the central tendency measures"
   ]
  },
  {
   "cell_type": "code",
   "execution_count": 5,
   "id": "b17c3073",
   "metadata": {},
   "outputs": [
    {
     "name": "stdout",
     "output_type": "stream",
     "text": [
      "Mean of our data: S1    435.028986\n",
      "S2    360.217391\n",
      "S3    366.934783\n",
      "dtype: float64\n"
     ]
    }
   ],
   "source": [
    "Mean = data.mean()\n",
    "print(\"Mean of our data:\", Mean)"
   ]
  },
  {
   "cell_type": "code",
   "execution_count": 6,
   "id": "2a363b51",
   "metadata": {},
   "outputs": [
    {
     "name": "stdout",
     "output_type": "stream",
     "text": [
      "Median of our data: S1    434.0\n",
      "S2    362.0\n",
      "S3    376.0\n",
      "dtype: float64\n"
     ]
    }
   ],
   "source": [
    "Median = data.median()\n",
    "print(\"Median of our data:\", Median)"
   ]
  },
  {
   "cell_type": "code",
   "execution_count": 7,
   "id": "c5f46fad",
   "metadata": {},
   "outputs": [
    {
     "name": "stdout",
     "output_type": "stream",
     "text": [
      "Mode of our data:     S1   S2   S3\n",
      "0  429  362  379\n"
     ]
    }
   ],
   "source": [
    "Mode = data.mode()\n",
    "print(\"Mode of our data:\", Mode)"
   ]
  },
  {
   "cell_type": "markdown",
   "id": "6b15f823",
   "metadata": {},
   "source": [
    "### ○\tCompute the spread measures\n"
   ]
  },
  {
   "cell_type": "code",
   "execution_count": 8,
   "id": "6a692b63",
   "metadata": {},
   "outputs": [
    {
     "name": "stdout",
     "output_type": "stream",
     "text": [
      "Range of our dataset: S1     57\n",
      "S2     65\n",
      "S3    111\n",
      "dtype: int64\n"
     ]
    }
   ],
   "source": [
    "Range = data.max()- data.min()\n",
    "print(\"Range of our dataset:\", Range)"
   ]
  },
  {
   "cell_type": "code",
   "execution_count": 9,
   "id": "a3a4dcde",
   "metadata": {},
   "outputs": [
    {
     "name": "stdout",
     "output_type": "stream",
     "text": [
      "Variance of our dataset: S1    105.123241\n",
      "S2     84.171374\n",
      "S3    650.732942\n",
      "dtype: float64\n"
     ]
    }
   ],
   "source": [
    "Variance = data.var()\n",
    "print(\"Variance of our dataset:\", Variance)"
   ]
  },
  {
   "cell_type": "code",
   "execution_count": 10,
   "id": "75328c74",
   "metadata": {},
   "outputs": [
    {
     "name": "stdout",
     "output_type": "stream",
     "text": [
      "Standard Deviation of our dataset: S1    10.252963\n",
      "S2     9.174496\n",
      "S3    25.509468\n",
      "dtype: float64\n"
     ]
    }
   ],
   "source": [
    "std = data.std()\n",
    "print(\"Standard Deviation of our dataset:\", std)"
   ]
  },
  {
   "cell_type": "markdown",
   "id": "6b1240aa",
   "metadata": {},
   "source": [
    "### ○\tWhat can you say about S1, S2, S3"
   ]
  },
  {
   "cell_type": "markdown",
   "id": "644e5092",
   "metadata": {},
   "source": [
    "### ■\tIn terms of Means, Variance, and Standard deviation\n"
   ]
  },
  {
   "cell_type": "markdown",
   "id": "5fa1da59",
   "metadata": {},
   "source": [
    "### ■\tWhich one of the sensors is different from the others\n"
   ]
  },
  {
   "cell_type": "markdown",
   "id": "f0c3146f",
   "metadata": {},
   "source": [
    "##### The mean value of dataset S1 is the highest, followed by dataset S2 and then dataset S3. This suggests that dataset S1 has the highest average value among the three datasets.\n",
    "##### The standard deviation of dataset S3 is the highest, followed by dataset S1 and then dataset S2. This suggests that dataset S3 has the most variability or dispersion in its values compared to the other two datasets.\n",
    "##### The standard deviation values of all three datasets are relatively small compared to their mean values. This suggests that the values in each dataset are relatively close to their mean values.\n"
   ]
  },
  {
   "cell_type": "code",
   "execution_count": 11,
   "id": "9eeb4b67",
   "metadata": {},
   "outputs": [
    {
     "data": {
      "image/png": "[encoded data removed]",
      "text/plain": [
       "<Figure size 640x480 with 1 Axes>"
      ]
     },
     "metadata": {},
     "output_type": "display_data"
    }
   ],
   "source": [
    "import matplotlib.pyplot as plt\n",
    "\n",
    "plt.hist(data)\n",
    "plt.show()"
   ]
  },
  {
   "cell_type": "code",
   "execution_count": 12,
   "id": "95ec756b",
   "metadata": {},
   "outputs": [
    {
     "data": {
      "text/plain": [
       "<Axes: >"
      ]
     },
     "execution_count": 12,
     "metadata": {},
     "output_type": "execute_result"
    },
    {
     "data": {
      "image/png": "[encoded data removed]",
      "text/plain": [
       "<Figure size 640x480 with 1 Axes>"
      ]
     },
     "metadata": {},
     "output_type": "display_data"
    }
   ],
   "source": [
    "import matplotlib.pyplot as plt\n",
    "\n",
    "data.boxplot()"
   ]
  },
  {
   "cell_type": "markdown",
   "id": "c4fbfd58",
   "metadata": {},
   "source": [
    "### ■\tIs it possible to divide a categorical dataset using quartiles"
   ]
  },
  {
   "cell_type": "markdown",
   "id": "2a0b7ccf",
   "metadata": {},
   "source": [
    "#### No, it is not possible to divide a categorical dataset into quartiles because quartiles are a statistical concept that applies to numerical data. Quartiles are a way of dividing a dataset into four equal parts based on their numerical values."
   ]
  },
  {
   "cell_type": "markdown",
   "id": "c09f4926",
   "metadata": {},
   "source": [
    "# 3.\tSuppose we have list of set of colors\n",
    "### Colors = [Red, Green, Blue, Blue, Green, Red, Yellow, Orange, Purple, Blue, Green, Red, Blue, Yellow, Orange, Green, Blue, Red, Yellow, Green]\n",
    "\n",
    "### How can we make Quartiles in such a case?\n"
   ]
  },
  {
   "cell_type": "markdown",
   "id": "ed215798",
   "metadata": {},
   "source": [
    "#### In this case, since we have a categorical dataset (a list of colors), we cannot use quartiles directly as they are meant for numerical data. However, we can create quartiles for the frequencies of each color in the dataset.\n",
    "\n",
    "#### To do this, we can first count the frequency of each color using the collections module in Python. "
   ]
  },
  {
   "cell_type": "markdown",
   "id": "93e5865a",
   "metadata": {},
   "source": [
    "#### split the data into 4 different parts based on R, G and B of each color. R, g and B have 211 like numbers."
   ]
  },
  {
   "cell_type": "code",
   "execution_count": null,
   "id": "b4148f6a",
   "metadata": {},
   "outputs": [],
   "source": []
  }
 ],
 "metadata": {
  "kernelspec": {
   "display_name": "Python 3 (ipykernel)",
   "language": "python",
   "name": "python3"
  },
  "language_info": {
   "codemirror_mode": {
    "name": "ipython",
    "version": 3
   },
   "file_extension": ".py",
   "mimetype": "text/x-python",
   "name": "python",
   "nbconvert_exporter": "python",
   "pygments_lexer": "ipython3",
   "version": "3.10.9"
  }
 },
 "nbformat": 4,
 "nbformat_minor": 5
}
