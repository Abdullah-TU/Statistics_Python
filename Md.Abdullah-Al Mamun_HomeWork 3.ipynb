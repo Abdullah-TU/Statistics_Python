{
 "cells": [
  {
   "attachments": {
    "image.png": {
     "image/png": "[encoded data removed]"
    }
   },
   "cell_type": "markdown",
   "id": "d9f2add9",
   "metadata": {},
   "source": [
    "# HomeWork 3\n",
    "\n",
    "## Md. Abdullah-Al Mamun\n",
    "\n",
    "### 1.\tSuppose we have rooms we have a dataset that shows the number of bedrooms and the selling price for 20 houses in a particular neighborhood\n",
    "##### Bedrooms = [1,1,1,2,2,2,2,3,3,3,3,3,3,3,4,4,4,5,5,6]\n",
    "##### Prices = [120,133,139,185,148,160,192,205,244,213,236,280,275,273,312,311,304,415,396,488]\n",
    "\n",
    "### 2.\tUsing the Bedrooms data points:\n",
    "##### ○\tExtract a random sample of size 10\n",
    "##### ○\tCompute the mean and standard deviation of the sample\n",
    "##### ○\tCompute the the mean of the population\n",
    "##### ○\tCompute the confidence interval of 95% using the sample \n",
    "##### ○\tCheck if the population mean lies between the upper and lower bounds of the interval\n",
    "\n",
    " ![image.png](attachment:image.png)\n"
   ]
  },
  {
   "cell_type": "code",
   "execution_count": 1,
   "id": "7b587f3c",
   "metadata": {},
   "outputs": [],
   "source": [
    "# library\n",
    "\n",
    "import random\n",
    "import numpy as np\n",
    "import pandas as pd\n",
    "import seaborn as sns\n",
    "import matplotlib.pyplot as plt"
   ]
  },
  {
   "cell_type": "code",
   "execution_count": 2,
   "id": "e0d50ff8",
   "metadata": {},
   "outputs": [],
   "source": [
    "# Data\n",
    "\n",
    "Bedrooms = [1,1,1,2,2,2,2,3,3,3,3,3,3,3,4,4,4,5,5,6]\n",
    "Prices = [120,133,139,185,148,160,192,205,244,213,236,280,275,273,312,311,304,415,396,488]"
   ]
  },
  {
   "cell_type": "markdown",
   "id": "7e7870cb",
   "metadata": {},
   "source": [
    "### Extract a random sample of size 10"
   ]
  },
  {
   "cell_type": "code",
   "execution_count": 3,
   "id": "4d7fa82f",
   "metadata": {},
   "outputs": [
    {
     "data": {
      "text/plain": [
       "[3, 3, 2, 1, 4, 3, 5, 2, 4, 3]"
      ]
     },
     "execution_count": 3,
     "metadata": {},
     "output_type": "execute_result"
    }
   ],
   "source": [
    "random_sample =  random.sample(Bedrooms, k=10)\n",
    "random_sample"
   ]
  },
  {
   "cell_type": "markdown",
   "id": "4f1cc7f1",
   "metadata": {},
   "source": [
    "### Compute the mean and standard deviation of the sample"
   ]
  },
  {
   "cell_type": "code",
   "execution_count": 4,
   "id": "eeaee963",
   "metadata": {},
   "outputs": [
    {
     "name": "stdout",
     "output_type": "stream",
     "text": [
      "The mean of the sample: 3.00\n",
      "The standard deviation of the sample: 1.15\n"
     ]
    }
   ],
   "source": [
    "sample_mean = np.mean(random_sample)\n",
    "print(\"The mean of the sample: {:.2f}\".format(sample_mean))\n",
    "\n",
    "sample_std = np.std(random_sample, ddof=1)\n",
    "print(\"The standard deviation of the sample: {:.2f}\".format(sample_std))"
   ]
  },
  {
   "cell_type": "markdown",
   "id": "bd20d661",
   "metadata": {},
   "source": [
    "### Compute the the mean of the population"
   ]
  },
  {
   "cell_type": "code",
   "execution_count": 5,
   "id": "c33b0e19",
   "metadata": {},
   "outputs": [
    {
     "name": "stdout",
     "output_type": "stream",
     "text": [
      "Population mean: 3.00\n"
     ]
    }
   ],
   "source": [
    "population_mean = np.mean(Bedrooms)\n",
    "print(\"Population mean: {:.2f}\".format(population_mean))  "
   ]
  },
  {
   "cell_type": "markdown",
   "id": "7f7fa752",
   "metadata": {},
   "source": [
    "## Compute the confidence interval of 95% using the sample\n"
   ]
  },
  {
   "cell_type": "code",
   "execution_count": 6,
   "id": "fbee7c9e",
   "metadata": {},
   "outputs": [
    {
     "name": "stdout",
     "output_type": "stream",
     "text": [
      "The confidence interval of 95% using the sample: (2.396735814298603, 3.603264185701397)\n"
     ]
    }
   ],
   "source": [
    "from scipy.stats import norm\n",
    "\n",
    "def confidence_interval(random_sample, confidence=0.95):\n",
    "    n = len(random_sample)\n",
    "    \n",
    "    z_score = norm.ppf((1 + confidence) / 2) # The 1 and 2 in the equation refer to 1 + confidence and 2 respectively, \n",
    "                                             # which are used to calculate the quantile of the standard normal distribution.\n",
    "    std_error = np.std(Bedrooms, ddof=1) / np.sqrt(n)    \n",
    "    sample_mean = np.mean(Bedrooms)\n",
    "    \n",
    "    lower_bound = sample_mean - z_score * std_error\n",
    "    upper_bound = sample_mean + z_score * std_error\n",
    "    \n",
    "    return lower_bound, upper_bound\n",
    "\n",
    "\n",
    "confidence_interval=confidence_interval(Bedrooms)\n",
    "print(\"The confidence interval of 95% using the sample: {}\".format(confidence_interval))"
   ]
  },
  {
   "cell_type": "markdown",
   "id": "95bf3d71",
   "metadata": {},
   "source": [
    "### Check if the population mean lies between the upper and lower bounds of the interval"
   ]
  },
  {
   "cell_type": "code",
   "execution_count": 7,
   "id": "9b0ada50",
   "metadata": {},
   "outputs": [
    {
     "name": "stdout",
     "output_type": "stream",
     "text": [
      "The population mean 3.00 lies between the lower bound 2.40 and upper bounds 3.60 of the interval.\n"
     ]
    }
   ],
   "source": [
    "lower_bound =confidence_interval[0]\n",
    "upper_bound = confidence_interval[1]\n",
    "\n",
    "if lower_bound <= population_mean <= upper_bound:\n",
    "    print(\"The population mean {:.2f} lies between the lower bound {:.2f} and upper bounds {:.2f} of the interval.\".format(population_mean, lower_bound, upper_bound ))\n",
    "else:\n",
    "    print(\"The population mean {:.2f} lies outside the lower bound {:.2f} and upper bounds {:.2f} of the interval.\".format(population_mean, lower_bound, upper_bound ))"
   ]
  },
  {
   "cell_type": "markdown",
   "id": "ad6e38d3",
   "metadata": {},
   "source": [
    "# 3.\tUsing both of the Bedrooms and the Prices:\n",
    "#### ○\tCompute the covariance and the correlation between the two variables\n",
    "#### ○\tBuild a regression model and estimate the regression parameters (slope and intercept).\n",
    "#### ○\tPredict the house price for a house with 7 rooms\n",
    "#### ○\tEstimate the upper bound and the lower bounds of the prediction interval of a house with 7 rooms\n",
    "##### ■\tAlpha = 0.1\n",
    "##### ■\tN = 20\n",
    "##### ■\tDf = N-2\n",
    "### Compute the covariance and the correlation between the two variables"
   ]
  },
  {
   "cell_type": "code",
   "execution_count": 8,
   "id": "042b05fc",
   "metadata": {},
   "outputs": [
    {
     "name": "stdout",
     "output_type": "stream",
     "text": [
      "Covariance between Bedrooms and Prices:\n",
      "            Bedrooms        Prices\n",
      "Bedrooms    1.894737    133.894737\n",
      "Prices    133.894737  10016.155263\n",
      "\n",
      "Correlation between Bedrooms and Prices:\n",
      "          Bedrooms    Prices\n",
      "Bedrooms  1.000000  0.971938\n",
      "Prices    0.971938  1.000000\n"
     ]
    }
   ],
   "source": [
    "df = pd.DataFrame({'Bedrooms': Bedrooms, 'Prices': Prices})\n",
    "\n",
    "# covariance\n",
    "covariance = df.cov()\n",
    "print(\"Covariance between Bedrooms and Prices:\\n{}\".format(covariance))\n",
    "\n",
    "print()\n",
    "\n",
    "# correlation\n",
    "correlation = df.corr()\n",
    "print(\"Correlation between Bedrooms and Prices:\\n{}\".format(correlation)) "
   ]
  },
  {
   "cell_type": "markdown",
   "id": "238e5ad9",
   "metadata": {},
   "source": [
    "##### Correlation between Bedrooms and Prices using heatmap"
   ]
  },
  {
   "cell_type": "code",
   "execution_count": 9,
   "id": "0eefb551",
   "metadata": {},
   "outputs": [
    {
     "data": {
      "image/png": "[encoded data removed]",
      "text/plain": [
       "<Figure size 640x480 with 2 Axes>"
      ]
     },
     "metadata": {},
     "output_type": "display_data"
    }
   ],
   "source": [
    "sns.heatmap(df.corr(), annot=True, cmap='coolwarm')\n",
    "plt.title(\"Correlation between variables: Bedrooms Vs Prices\")\n",
    "plt.show()"
   ]
  },
  {
   "cell_type": "markdown",
   "id": "71b9d83d",
   "metadata": {},
   "source": [
    "### Build a regression model and estimate the regression parameters (slope and intercept)."
   ]
  },
  {
   "cell_type": "code",
   "execution_count": 10,
   "id": "b41419ca",
   "metadata": {},
   "outputs": [
    {
     "name": "stdout",
     "output_type": "stream",
     "text": [
      "Slope: 70.67\n",
      "Intercept: 39.45\n"
     ]
    }
   ],
   "source": [
    "from sklearn.linear_model import LinearRegression\n",
    "\n",
    "# Reshape the data\n",
    "X = np.array(Bedrooms).reshape((-1, 1))\n",
    "y = np.array(Prices)\n",
    "\n",
    "# Linear Regression \n",
    "model = LinearRegression()\n",
    "\n",
    "# fit the model to the data\n",
    "model.fit(X, y)\n",
    "\n",
    "# Estimate the regression parameters (slope and intercept)\n",
    "slope = model.coef_[0]\n",
    "intercept = model.intercept_\n",
    "\n",
    "print(\"Slope: {:.2f}\".format(slope))\n",
    "print(\"Intercept: {:.2f}\".format(intercept))"
   ]
  },
  {
   "cell_type": "code",
   "execution_count": 11,
   "id": "11b93ffb",
   "metadata": {},
   "outputs": [
    {
     "data": {
      "text/plain": [
       "70.6666666666667"
      ]
     },
     "execution_count": 11,
     "metadata": {},
     "output_type": "execute_result"
    }
   ],
   "source": [
    "model.coef_[0]"
   ]
  },
  {
   "cell_type": "markdown",
   "id": "1854f3f3",
   "metadata": {},
   "source": [
    "## Predict the house price for a house with 7 rooms"
   ]
  },
  {
   "cell_type": "code",
   "execution_count": 12,
   "id": "7df6ef0c",
   "metadata": {},
   "outputs": [
    {
     "name": "stdout",
     "output_type": "stream",
     "text": [
      "Predicted price for a house with 7 rooms: 534.12\n"
     ]
    }
   ],
   "source": [
    "num_of_rooms = 7\n",
    "predicted_price = slope * num_of_rooms + intercept  # linear equation, y = mx + b\n",
    "\n",
    "print(\"Predicted price for a house with {} rooms: {:.2f}\".format(num_of_rooms, predicted_price))"
   ]
  },
  {
   "cell_type": "markdown",
   "id": "266e7656",
   "metadata": {},
   "source": [
    "### Estimate the upper bound and the lower bounds of the prediction interval of a house with 7 rooms\n",
    "#### ■ Alpha = 0.1\n",
    "#### ■ N = 20\n",
    "#### ■ Df = N-2"
   ]
  },
  {
   "cell_type": "code",
   "execution_count": 13,
   "id": "c0d4d40b",
   "metadata": {},
   "outputs": [
    {
     "name": "stdout",
     "output_type": "stream",
     "text": [
      "Predicted price 534.12 for a house with 7 rooms are in : [504.62, 563.61] intervals\n"
     ]
    }
   ],
   "source": [
    "from scipy.stats import t\n",
    "\n",
    "\n",
    "def predict_interval(x, model, alpha=0.1, N=20): # x= number of rooms, N = sample size, \n",
    "    # standard error\n",
    "    x_mean = np.mean(X)\n",
    "    y_mean = np.mean(y)\n",
    "    y_pred = model.predict(X)\n",
    "    resid = y - y_pred\n",
    "    SSE = np.sum(resid**2)  #Sum of Squared Errors\n",
    "    sse_mean = SSE / (N-2)\n",
    "    sse_x = sse_mean * (1/N + (x-x_mean)**2/np.sum((X-x_mean)**2))\n",
    "    std_error = np.sqrt(sse_x)\n",
    "\n",
    "    # the t-score for alpha and degrees of freedom\n",
    "    t_score = t.ppf(1 - alpha/2, N-2)\n",
    "\n",
    "    # the prediction interval calculation\n",
    "    y_hat = model.predict([[x]])[0]\n",
    "    \n",
    "    lower_bound = y_hat - t_score * std_error\n",
    "    upper_bound = y_hat + t_score * std_error\n",
    "\n",
    "    return (lower_bound, upper_bound)\n",
    "\n",
    "\n",
    "(lower, upper) = predict_interval(7, model, alpha=0.1, N=20)\n",
    "print(\"Predicted price {:.2f} for a house with 7 rooms are in : [{:.2f}, {:.2f}] intervals\".format(predicted_price, lower, upper))"
   ]
  },
  {
   "cell_type": "markdown",
   "id": "30912330",
   "metadata": {},
   "source": [
    "### 4.  Using as sample of houses that have only 3 bedrooms \n",
    "### 5.\tTry to find the lower price that can be payed for a house with 3 rooms using Tolerance interval"
   ]
  },
  {
   "cell_type": "code",
   "execution_count": 14,
   "id": "ac77b424",
   "metadata": {},
   "outputs": [
    {
     "name": "stdout",
     "output_type": "stream",
     "text": [
      "The lower price 218.32€ that can be payed for a house with 3 rooms using Tolerance interval [218.32, 274.82]\n"
     ]
    }
   ],
   "source": [
    "from scipy.stats import t\n",
    "\n",
    "# Extracting sample of houses with 3 bedrooms\n",
    "three_bedrooms = [p for b, p in zip(Bedrooms, Prices) if b == 3]\n",
    "\n",
    "#  mean and standard deviation of Prices\n",
    "mean_price = np.mean(three_bedrooms)\n",
    "std_dev_price = np.std(three_bedrooms, ddof=1)\n",
    "\n",
    "alpha = 0.05\n",
    "n = len(three_bedrooms)\n",
    "df = n - 1\n",
    "k2 = 2.447    # two- one sided tolerance interval \n",
    "\n",
    "# the lower and upper bounds\n",
    "lower_bound = mean_price - k2 * (std_dev_price / np.sqrt(n))\n",
    "upper_bound = mean_price + k2 * (std_dev_price / np.sqrt(n))\n",
    "\n",
    "print(\"The lower price {:.2f}€ that can be payed for a house with 3 rooms using Tolerance interval [{:.2f}, {:.2f}]\".format(lower_bound, lower_bound, upper_bound))\n"
   ]
  },
  {
   "cell_type": "markdown",
   "id": "ca33715a",
   "metadata": {},
   "source": [
    "### 6.\tTry  to find the highest price that can be payed for a house with 3 rooms using Tolerance interval"
   ]
  },
  {
   "cell_type": "code",
   "execution_count": 15,
   "id": "b61f7187",
   "metadata": {},
   "outputs": [
    {
     "name": "stdout",
     "output_type": "stream",
     "text": [
      "The highest price 274.82€ that can be payed for a house with 3 rooms using Tolerance interval [218.32, 274.82]\n"
     ]
    }
   ],
   "source": [
    "print(\"The highest price {:.2f}€ that can be payed for a house with 3 rooms using Tolerance interval [{:.2f}, {:.2f}]\".format(upper_bound, lower_bound, upper_bound))"
   ]
  },
  {
   "cell_type": "markdown",
   "id": "ffa1e2b1",
   "metadata": {},
   "source": [
    "## Some Extra stuff:\n",
    "#### Try to use these Formulas as well and compare the results\n",
    "\n",
    "### We use the following formula to calculate a confidence interval:\n",
    "#### ŷ0  +/-  tα/2,n-2 * Syx√((x0 – x̄)2/SSx + 1/n)\n",
    "#### We use the following formula to calculate a prediction interval:\n",
    "#### ŷ0  +/-  tα/2,n-2 * Syx√((x0 – x̄)2/SSx + 1/n + 1)\n",
    "##### where:\n",
    "#####  ●\tŷ0: Estimated mean value of response variable\n",
    "#####  ●\ttα/2,n-2: t-critical value with n-2 degrees of freedom\n",
    "##### ●\tSyx: Standard error of response variable\n",
    "##### ●\tx0: specific value of predictor variable \n",
    "##### ●\tx̄: mean value of predictor variable\n",
    "##### ●\tSSx: Sum of squares for predictor variable\n",
    "##### ●\tn: Total sample size\n",
    "\n",
    "\n",
    "## calculate a confidence interval:"
   ]
  },
  {
   "cell_type": "code",
   "execution_count": 17,
   "id": "8846882c",
   "metadata": {},
   "outputs": [
    {
     "name": "stdout",
     "output_type": "stream",
     "text": [
      "The 90% confidence interval for a house with 7 bedrooms is [504.62, 563.61]\n"
     ]
    }
   ],
   "source": [
    "from scipy import stats\n",
    "import math\n",
    "\n",
    "def confidence_interval(x, y, x0, alpha=0.05):\n",
    "    \n",
    "    # size of input variable\n",
    "    n = len(x)\n",
    "    \n",
    "    # Calculating the mean of variable x and y\n",
    "    x_mean = sum(x) / n\n",
    "    y_mean = sum(y) / n\n",
    "    \n",
    "    # Calculating the covariance between x and y \n",
    "    xy_cov = sum([(xi - x_mean) * (yi - y_mean) for xi, yi in zip(x, y)])\n",
    "    \n",
    "    # Calculating the variance of variable x\n",
    "    x_var = sum([(xi - x_mean) ** 2 for xi in x])\n",
    "    \n",
    "    # the slope of the regression line\n",
    "    b1 = xy_cov / x_var\n",
    "    \n",
    "    # Calculating the intercept of the regression line \n",
    "    b0 = y_mean - b1 * x_mean\n",
    "    \n",
    "    # Calculating the predicted value of y for a given x0\n",
    "    y0 = b0 + b1 * x0\n",
    "    \n",
    "    # the mean squared error\n",
    "    mse = sum([(yi - (b0 + b1 * xi)) ** 2 for xi, yi in zip(x, y)]) / (n - 2)\n",
    "    \n",
    "    # Calculating the sum of squares of x\n",
    "    ssx = sum([(xi - x_mean) ** 2 for xi in x])\n",
    "    \n",
    "    # Calculating the standard error of the estimate\n",
    "    s_yx = np.sqrt(mse)\n",
    "    \n",
    "    # Calculating the t-statistic\n",
    "    t = abs(stats.t.ppf(alpha / 2, n - 2))   \n",
    "       \n",
    "    \n",
    "    # Calculating the lower and upper bounds of the confidence interval\n",
    "    lower_bound = y0 - t * s_yx * math.sqrt((x0 - x_mean) ** 2 / ssx + 1 / n)\n",
    "    upper_bound = y0 + t * s_yx * math.sqrt((x0 - x_mean) ** 2 / ssx + 1 / n)\n",
    "    \n",
    "    # Returning the lower and upper bounds of the confidence interval\n",
    "    \n",
    "    return lower_bound,  upper_bound # ŷ0  +/-  tα/2,n-2 * Syx√((x0 – x̄)2/SSx + 1/n)\n",
    "\n",
    "\n",
    "# number of rooms =7\n",
    "x0=7\n",
    "lower_bound, upper_bound = confidence_interval(Bedrooms, Prices, x0, alpha= 0.1)\n",
    "\n",
    "print(\"The 90% confidence interval for a house with {} bedrooms is [{:.2f}, {:.2f}]\".format(x0, lower_bound, upper_bound))"
   ]
  },
  {
   "cell_type": "markdown",
   "id": "95470f73",
   "metadata": {},
   "source": [
    "## calculation of prediction interval"
   ]
  },
  {
   "cell_type": "code",
   "execution_count": 18,
   "id": "0b72da29",
   "metadata": {},
   "outputs": [
    {
     "name": "stdout",
     "output_type": "stream",
     "text": [
      "The 90% prediction_interval for a house with 7 bedrooms is [482.84, 585.39]\n"
     ]
    }
   ],
   "source": [
    "from scipy import stats\n",
    "\n",
    "def prediction_interval(x, y, x0, alpha=0.05):\n",
    "    \n",
    "    # size of input variable\n",
    "    n = len(x)\n",
    "    \n",
    "    # Calculating the mean of variable x and y\n",
    "    x_mean = sum(x) / n\n",
    "    y_mean = sum(y) / n\n",
    "    \n",
    "    # Calculating the covariance between x and y \n",
    "    xy_cov = sum([(xi - x_mean) * (yi - y_mean) for xi, yi in zip(x, y)])\n",
    "    \n",
    "    # Calculating the variance of variable x\n",
    "    x_var = sum([(xi - x_mean) ** 2 for xi in x])\n",
    "    \n",
    "    # the slope of the regression line\n",
    "    b1 = xy_cov / x_var\n",
    "    \n",
    "    # Calculating the intercept of the regression line \n",
    "    b0 = y_mean - b1 * x_mean\n",
    "    \n",
    "    # Calculating the predicted value of y for a given x0\n",
    "    y0 = b0 + b1 * x0\n",
    "    \n",
    "    # the mean squared error\n",
    "    mse = sum([(yi - (b0 + b1 * xi)) ** 2 for xi, yi in zip(x, y)]) / (n - 2)\n",
    "    \n",
    "    # Calculating the sum of squares of x\n",
    "    ssx = sum([(xi - x_mean) ** 2 for xi in x])\n",
    "    \n",
    "    # Calculating the standard error of the estimate\n",
    "    s_yx = np.sqrt(mse)\n",
    "    \n",
    "    # Calculating the t-statistic\n",
    "    t = abs(stats.t.ppf(alpha / 2, n - 2))    \n",
    "    \n",
    "    # calculating lower bound and upper bound of the prediction interval\n",
    "    lower_bound = (y0 - t * s_yx * math.sqrt((x0 - x_mean) ** 2 / ssx + 1 + (1/n)))\n",
    "    upper_bound = (y0 + t * s_yx * math.sqrt((x0 - x_mean) ** 2 / ssx + 1 + (1/n)))\n",
    "    \n",
    "    # Returning the lower and upper bounds of the prediction interval\n",
    "    \n",
    "    return  lower_bound, upper_bound  #ŷ0  +/-  tα/2,n-2 * Syx√((x0 – x̄)2/SSx + 1/n + 1)\n",
    "\n",
    "# number of rooms =7\n",
    "x0=7\n",
    "lower_bound, upper_bound =prediction_interval(Bedrooms, Prices, x0, alpha= 0.1)\n",
    "\n",
    "print(\"The 90% prediction_interval for a house with {} bedrooms is [{:.2f}, {:.2f}]\".format(x0, lower_bound, upper_bound))"
   ]
  }
 ],
 "metadata": {
  "kernelspec": {
   "display_name": "Python 3 (ipykernel)",
   "language": "python",
   "name": "python3"
  },
  "language_info": {
   "codemirror_mode": {
    "name": "ipython",
    "version": 3
   },
   "file_extension": ".py",
   "mimetype": "text/x-python",
   "name": "python",
   "nbconvert_exporter": "python",
   "pygments_lexer": "ipython3",
   "version": "3.10.9"
  }
 },
 "nbformat": 4,
 "nbformat_minor": 5
}
