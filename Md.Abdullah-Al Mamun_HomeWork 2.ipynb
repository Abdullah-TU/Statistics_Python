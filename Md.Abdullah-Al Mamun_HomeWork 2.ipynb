{
 "cells": [
  {
   "cell_type": "markdown",
   "id": "e008be43",
   "metadata": {},
   "source": [
    "# HomeWork 2\n",
    "## Md. Abdullah-Al Mamun\n",
    "\n",
    "## 1.\tEvery group have  to download the Excel files:\n",
    "## 2.\tEach file has three recorded values of water flow recorded using three sensors S1,S2, and S3.\n"
   ]
  },
  {
   "cell_type": "markdown",
   "id": "13827a6d",
   "metadata": {},
   "source": [
    "# 2.1. Compute the covariance between three variables"
   ]
  },
  {
   "cell_type": "code",
   "execution_count": 1,
   "id": "0f36115e",
   "metadata": {},
   "outputs": [],
   "source": [
    "import pandas as pd\n",
    "data = pd.read_excel('Group3.xlsx')"
   ]
  },
  {
   "cell_type": "code",
   "execution_count": 2,
   "id": "ba8c9fae",
   "metadata": {},
   "outputs": [
    {
     "data": {
      "text/html": [
       "<div>\n",
       "<style scoped>\n",
       "    .dataframe tbody tr th:only-of-type {\n",
       "        vertical-align: middle;\n",
       "    }\n",
       "\n",
       "    .dataframe tbody tr th {\n",
       "        vertical-align: top;\n",
       "    }\n",
       "\n",
       "    .dataframe thead th {\n",
       "        text-align: right;\n",
       "    }\n",
       "</style>\n",
       "<table border=\"1\" class=\"dataframe\">\n",
       "  <thead>\n",
       "    <tr style=\"text-align: right;\">\n",
       "      <th></th>\n",
       "      <th>S1</th>\n",
       "      <th>S2</th>\n",
       "      <th>S3</th>\n",
       "    </tr>\n",
       "  </thead>\n",
       "  <tbody>\n",
       "    <tr>\n",
       "      <th>0</th>\n",
       "      <td>419</td>\n",
       "      <td>362</td>\n",
       "      <td>373</td>\n",
       "    </tr>\n",
       "    <tr>\n",
       "      <th>1</th>\n",
       "      <td>432</td>\n",
       "      <td>364</td>\n",
       "      <td>392</td>\n",
       "    </tr>\n",
       "    <tr>\n",
       "      <th>2</th>\n",
       "      <td>429</td>\n",
       "      <td>370</td>\n",
       "      <td>379</td>\n",
       "    </tr>\n",
       "    <tr>\n",
       "      <th>3</th>\n",
       "      <td>424</td>\n",
       "      <td>362</td>\n",
       "      <td>385</td>\n",
       "    </tr>\n",
       "    <tr>\n",
       "      <th>4</th>\n",
       "      <td>433</td>\n",
       "      <td>372</td>\n",
       "      <td>383</td>\n",
       "    </tr>\n",
       "    <tr>\n",
       "      <th>...</th>\n",
       "      <td>...</td>\n",
       "      <td>...</td>\n",
       "      <td>...</td>\n",
       "    </tr>\n",
       "    <tr>\n",
       "      <th>133</th>\n",
       "      <td>446</td>\n",
       "      <td>355</td>\n",
       "      <td>349</td>\n",
       "    </tr>\n",
       "    <tr>\n",
       "      <th>134</th>\n",
       "      <td>432</td>\n",
       "      <td>367</td>\n",
       "      <td>383</td>\n",
       "    </tr>\n",
       "    <tr>\n",
       "      <th>135</th>\n",
       "      <td>430</td>\n",
       "      <td>353</td>\n",
       "      <td>355</td>\n",
       "    </tr>\n",
       "    <tr>\n",
       "      <th>136</th>\n",
       "      <td>437</td>\n",
       "      <td>362</td>\n",
       "      <td>386</td>\n",
       "    </tr>\n",
       "    <tr>\n",
       "      <th>137</th>\n",
       "      <td>437</td>\n",
       "      <td>367</td>\n",
       "      <td>381</td>\n",
       "    </tr>\n",
       "  </tbody>\n",
       "</table>\n",
       "<p>138 rows × 3 columns</p>\n",
       "</div>"
      ],
      "text/plain": [
       "      S1   S2   S3\n",
       "0    419  362  373\n",
       "1    432  364  392\n",
       "2    429  370  379\n",
       "3    424  362  385\n",
       "4    433  372  383\n",
       "..   ...  ...  ...\n",
       "133  446  355  349\n",
       "134  432  367  383\n",
       "135  430  353  355\n",
       "136  437  362  386\n",
       "137  437  367  381\n",
       "\n",
       "[138 rows x 3 columns]"
      ]
     },
     "execution_count": 2,
     "metadata": {},
     "output_type": "execute_result"
    }
   ],
   "source": [
    "data"
   ]
  },
  {
   "cell_type": "code",
   "execution_count": 3,
   "id": "64aa9ca3",
   "metadata": {},
   "outputs": [],
   "source": [
    "# creating three variable from data\n",
    "\n",
    "x=data[\"S1\"]\n",
    "y=data[\"S2\"]\n",
    "z=data[\"S3\"]"
   ]
  },
  {
   "cell_type": "markdown",
   "id": "0fb5031a",
   "metadata": {},
   "source": [
    "# 2.2. Compute the covariance between three variables"
   ]
  },
  {
   "cell_type": "code",
   "execution_count": 4,
   "id": "f970860e",
   "metadata": {},
   "outputs": [
    {
     "data": {
      "text/html": [
       "<div>\n",
       "<style scoped>\n",
       "    .dataframe tbody tr th:only-of-type {\n",
       "        vertical-align: middle;\n",
       "    }\n",
       "\n",
       "    .dataframe tbody tr th {\n",
       "        vertical-align: top;\n",
       "    }\n",
       "\n",
       "    .dataframe thead th {\n",
       "        text-align: right;\n",
       "    }\n",
       "</style>\n",
       "<table border=\"1\" class=\"dataframe\">\n",
       "  <thead>\n",
       "    <tr style=\"text-align: right;\">\n",
       "      <th></th>\n",
       "      <th>x</th>\n",
       "      <th>y</th>\n",
       "      <th>z</th>\n",
       "    </tr>\n",
       "  </thead>\n",
       "  <tbody>\n",
       "    <tr>\n",
       "      <th>x</th>\n",
       "      <td>105.123241</td>\n",
       "      <td>10.964456</td>\n",
       "      <td>5.242780</td>\n",
       "    </tr>\n",
       "    <tr>\n",
       "      <th>y</th>\n",
       "      <td>10.964456</td>\n",
       "      <td>84.171374</td>\n",
       "      <td>89.262456</td>\n",
       "    </tr>\n",
       "    <tr>\n",
       "      <th>z</th>\n",
       "      <td>5.242780</td>\n",
       "      <td>89.262456</td>\n",
       "      <td>650.732942</td>\n",
       "    </tr>\n",
       "  </tbody>\n",
       "</table>\n",
       "</div>"
      ],
      "text/plain": [
       "            x          y           z\n",
       "x  105.123241  10.964456    5.242780\n",
       "y   10.964456  84.171374   89.262456\n",
       "z    5.242780  89.262456  650.732942"
      ]
     },
     "execution_count": 4,
     "metadata": {},
     "output_type": "execute_result"
    }
   ],
   "source": [
    "data = {'x':x , 'y':y , 'z':z }\n",
    "df = pd.DataFrame(data)\n",
    "\n",
    "df.cov()"
   ]
  },
  {
   "cell_type": "code",
   "execution_count": 5,
   "id": "524ff66e",
   "metadata": {},
   "outputs": [
    {
     "data": {
      "text/plain": [
       "<Axes: >"
      ]
     },
     "execution_count": 5,
     "metadata": {},
     "output_type": "execute_result"
    },
    {
     "data": {
      "image/png": "[encoded data removed]",
      "text/plain": [
       "<Figure size 640x480 with 2 Axes>"
      ]
     },
     "metadata": {},
     "output_type": "display_data"
    }
   ],
   "source": [
    "import seaborn as sns\n",
    "\n",
    "sns.heatmap(df.cov(), annot=True, cmap='coolwarm')"
   ]
  },
  {
   "cell_type": "markdown",
   "id": "6db7c23c",
   "metadata": {},
   "source": [
    "# Compute the correlation coefficients between three variables"
   ]
  },
  {
   "cell_type": "code",
   "execution_count": 6,
   "id": "a58833e3",
   "metadata": {},
   "outputs": [
    {
     "data": {
      "text/html": [
       "<div>\n",
       "<style scoped>\n",
       "    .dataframe tbody tr th:only-of-type {\n",
       "        vertical-align: middle;\n",
       "    }\n",
       "\n",
       "    .dataframe tbody tr th {\n",
       "        vertical-align: top;\n",
       "    }\n",
       "\n",
       "    .dataframe thead th {\n",
       "        text-align: right;\n",
       "    }\n",
       "</style>\n",
       "<table border=\"1\" class=\"dataframe\">\n",
       "  <thead>\n",
       "    <tr style=\"text-align: right;\">\n",
       "      <th></th>\n",
       "      <th>x</th>\n",
       "      <th>y</th>\n",
       "      <th>z</th>\n",
       "    </tr>\n",
       "  </thead>\n",
       "  <tbody>\n",
       "    <tr>\n",
       "      <th>x</th>\n",
       "      <td>1.000000</td>\n",
       "      <td>0.078373</td>\n",
       "      <td>-0.022353</td>\n",
       "    </tr>\n",
       "    <tr>\n",
       "      <th>y</th>\n",
       "      <td>0.078373</td>\n",
       "      <td>1.000000</td>\n",
       "      <td>0.298125</td>\n",
       "    </tr>\n",
       "    <tr>\n",
       "      <th>z</th>\n",
       "      <td>-0.022353</td>\n",
       "      <td>0.298125</td>\n",
       "      <td>1.000000</td>\n",
       "    </tr>\n",
       "  </tbody>\n",
       "</table>\n",
       "</div>"
      ],
      "text/plain": [
       "          x         y         z\n",
       "x  1.000000  0.078373 -0.022353\n",
       "y  0.078373  1.000000  0.298125\n",
       "z -0.022353  0.298125  1.000000"
      ]
     },
     "execution_count": 6,
     "metadata": {},
     "output_type": "execute_result"
    }
   ],
   "source": [
    "# Pearson correlation coefficient,Kendall rank correlation coefficient,Spearman’s rank correlation coefficient\n",
    "\n",
    "corr_coef=df.corr(method=\"spearman\")\n",
    "corr_coef"
   ]
  },
  {
   "cell_type": "markdown",
   "id": "4e8fc660",
   "metadata": {},
   "source": [
    "# 2.3. Plot and report the relationships between the variables"
   ]
  },
  {
   "cell_type": "code",
   "execution_count": 7,
   "id": "fa36a83f",
   "metadata": {},
   "outputs": [
    {
     "data": {
      "text/plain": [
       "<Axes: >"
      ]
     },
     "execution_count": 7,
     "metadata": {},
     "output_type": "execute_result"
    },
    {
     "data": {
      "image/png": "[encoded data removed]",
      "text/plain": [
       "<Figure size 640x480 with 2 Axes>"
      ]
     },
     "metadata": {},
     "output_type": "display_data"
    }
   ],
   "source": [
    "import seaborn as sns\n",
    "\n",
    "sns.heatmap(corr_coef, annot=True, cmap='coolwarm')"
   ]
  },
  {
   "cell_type": "markdown",
   "id": "a87fc44c",
   "metadata": {},
   "source": [
    "## The diagonal elements of the matrix represent the correlation of each variable with itself, which is always 1.\n",
    "the correlation coefficient between x and y is 0.078373, which indicates a weak positive correlation between x and y. \n",
    "### Similarly, the correlation coefficient between y and z is 0.298125, \n",
    " the correlation coefficient between y and z is 0.298125, indicating a moderate positive correlation between y and z.\n",
    "The negative correlation coefficient between x and z (-0.022353) indicates a weak negative correlation between x and z. This means that as the value of x increases, the value of z tends to decrease, and vice versa.\n",
    "Overall, this correlation matrix suggests that there are weak to moderate correlations between the three variables."
   ]
  },
  {
   "cell_type": "code",
   "execution_count": 8,
   "id": "a7903909",
   "metadata": {},
   "outputs": [
    {
     "data": {
      "image/png": "[encoded data removed]",
      "text/plain": [
       "<Figure size 800x800 with 9 Axes>"
      ]
     },
     "metadata": {},
     "output_type": "display_data"
    }
   ],
   "source": [
    "import matplotlib.pyplot as plt\n",
    "\n",
    "pd.plotting.scatter_matrix(df, figsize=(8, 8))\n",
    "plt.show()"
   ]
  },
  {
   "cell_type": "markdown",
   "id": "4f1345df",
   "metadata": {},
   "source": [
    "# 2.4. Generate a random sample of 50 observations for each sensor"
   ]
  },
  {
   "cell_type": "code",
   "execution_count": 9,
   "id": "d1842aa1",
   "metadata": {},
   "outputs": [
    {
     "name": "stdout",
     "output_type": "stream",
     "text": [
      "x_random_samle:  [433 437 445 452 451 425 450 433 432 433 429 439 430 437 440 445 429 432\n",
      " 446 423 441 442 429 434 445 429 425 422 425 411 442 438 434 446 441 417\n",
      " 438 426 456 429 429 423 440 445 449 419 424 444 409 428]\n",
      "\n",
      "y_random_samle:  [356 361 355 370 358 356 359 370 361 365 362 365 362 362 359 370 364 364\n",
      " 355 362 352 347 352 360 355 359 350 364 365 362 343 360 364 353 364 363\n",
      " 367 369 364 378 357 368 364 359 345 359 360 357 362 368]\n",
      "\n",
      "z_random_samle:  [389 384 379 369 365 353 379 384 373 379 396 296 379 312 345 374 347 376\n",
      " 386 346 394 387 314 376 385 392 377 370 392 335 349 377 376 382 361 383\n",
      " 383 357 382 382 385 378 375 326 382 378 304 380 384 354]\n"
     ]
    }
   ],
   "source": [
    "import numpy as np\n",
    "\n",
    "x_random_samle= np.random.choice(x, size=50, replace=False)\n",
    "y_random_samle= np.random.choice(y, size=50, replace=False)\n",
    "z_random_samle= np.random.choice(z, size=50, replace=False)\n",
    "\n",
    "print(\"x_random_samle: \",x_random_samle)\n",
    "print()\n",
    "print(\"y_random_samle: \",y_random_samle)\n",
    "print()\n",
    "print(\"z_random_samle: \",z_random_samle)"
   ]
  },
  {
   "cell_type": "code",
   "execution_count": 10,
   "id": "a5919965",
   "metadata": {},
   "outputs": [
    {
     "name": "stdout",
     "output_type": "stream",
     "text": [
      "Mean of S1: 434.42, Standard deviation of S1: 10.48\n",
      "Mean of S2: 360.52, Standard deviation of S2: 6.61\n",
      "Mean of S3: 368.22, Standard deviation of S2: 23.75\n"
     ]
    }
   ],
   "source": [
    "smean1=x_random_samle.mean()\n",
    "sstd1=x_random_samle.std()\n",
    "print('Mean of S1: {:.2f}, Standard deviation of S1: {:.2f}'.format(smean1, sstd1))\n",
    "\n",
    "smean2=y_random_samle.mean()\n",
    "sstd2=y_random_samle.std()\n",
    "print('Mean of S2: {:.2f}, Standard deviation of S2: {:.2f}'.format(smean2, sstd2))\n",
    "\n",
    "smean3=z_random_samle.mean()\n",
    "sstd3=z_random_samle.std()\n",
    "print('Mean of S3: {:.2f}, Standard deviation of S2: {:.2f}'.format(smean3, sstd3))"
   ]
  },
  {
   "cell_type": "markdown",
   "id": "41bd1e28",
   "metadata": {},
   "source": [
    "# 2.5. Compute the upper and the lower bounds with confidence intervals 90%, 95%, 99%."
   ]
  },
  {
   "cell_type": "code",
   "execution_count": 11,
   "id": "71a1a238",
   "metadata": {},
   "outputs": [],
   "source": [
    "def lower_bound(mean, z_score, std,random_samle):\n",
    "    return (mean- z_score*(std/np.sqrt(len(random_samle))))\n",
    "    \n",
    "def upper_bound(mean, z_score, std,random_samle):\n",
    "    return (mean+ z_score*(std/np.sqrt(len(random_samle))))"
   ]
  },
  {
   "cell_type": "code",
   "execution_count": 12,
   "id": "65de63d5",
   "metadata": {},
   "outputs": [
    {
     "name": "stdout",
     "output_type": "stream",
     "text": [
      "431.51597573784244\n",
      "437.3240242621576\n"
     ]
    }
   ],
   "source": [
    "# 95% confident for S1\n",
    "LCL = lower_bound(smean1,sstd1,1.96,x_random_samle)\n",
    "UCL = upper_bound(smean1,sstd1,1.96,x_random_samle)\n",
    "\n",
    "print(LCL)\n",
    "print(UCL)"
   ]
  },
  {
   "cell_type": "code",
   "execution_count": 13,
   "id": "b211f43a",
   "metadata": {},
   "outputs": [
    {
     "name": "stdout",
     "output_type": "stream",
     "text": [
      "358.6878538957823\n",
      "362.35214610421764\n"
     ]
    }
   ],
   "source": [
    "# 95% confident for S2\n",
    "LCL = lower_bound(smean2,sstd2,1.96,y_random_samle)\n",
    "UCL = upper_bound(smean2,sstd2,1.96,y_random_samle)\n",
    "\n",
    "print(LCL)\n",
    "print(UCL)"
   ]
  },
  {
   "cell_type": "code",
   "execution_count": 14,
   "id": "76e990c3",
   "metadata": {},
   "outputs": [
    {
     "name": "stdout",
     "output_type": "stream",
     "text": [
      "361.63573246813286\n",
      "374.8042675318672\n"
     ]
    }
   ],
   "source": [
    "# 95% confident for S3\n",
    "LCL = lower_bound(smean3,sstd3,1.96,z_random_samle)\n",
    "UCL = upper_bound(smean3,sstd3,1.96,z_random_samle)\n",
    "\n",
    "print(LCL)\n",
    "print(UCL)"
   ]
  },
  {
   "cell_type": "code",
   "execution_count": 15,
   "id": "f48d26b3",
   "metadata": {},
   "outputs": [
    {
     "name": "stdout",
     "output_type": "stream",
     "text": [
      "431.982693922832\n",
      "436.857306077168\n"
     ]
    }
   ],
   "source": [
    "# 90% confident for S1 \n",
    "LCL = lower_bound(smean1,sstd1,1.645,x_random_samle)\n",
    "UCL = upper_bound(smean1,sstd1,1.645,x_random_samle)\n",
    "\n",
    "print(LCL)\n",
    "print(UCL)"
   ]
  },
  {
   "cell_type": "code",
   "execution_count": 16,
   "id": "6f5a9c10",
   "metadata": {},
   "outputs": [
    {
     "name": "stdout",
     "output_type": "stream",
     "text": [
      "358.9823059482459\n",
      "362.0576940517541\n"
     ]
    }
   ],
   "source": [
    "# 90% confident for S2\n",
    "LCL = lower_bound(smean2,sstd2,1.645,y_random_samle)\n",
    "UCL = upper_bound(smean2,sstd2,1.645,y_random_samle)\n",
    "\n",
    "print(LCL)\n",
    "print(UCL)"
   ]
  },
  {
   "cell_type": "code",
   "execution_count": 17,
   "id": "144203b1",
   "metadata": {},
   "outputs": [
    {
     "name": "stdout",
     "output_type": "stream",
     "text": [
      "362.6939183214687\n",
      "373.74608167853137\n"
     ]
    }
   ],
   "source": [
    "# 90% confident for S3\n",
    "LCL = lower_bound(smean3,sstd3,1.645,z_random_samle)\n",
    "UCL = upper_bound(smean3,sstd3,1.645,z_random_samle)\n",
    "\n",
    "print(LCL)\n",
    "print(UCL)"
   ]
  },
  {
   "cell_type": "code",
   "execution_count": 18,
   "id": "b54d65f1",
   "metadata": {},
   "outputs": [
    {
     "name": "stdout",
     "output_type": "stream",
     "text": [
      "430.26102239598146\n",
      "438.5789776040186\n"
     ]
    }
   ],
   "source": [
    "# 99% confident for S1 \n",
    "LCL = lower_bound(smean1,sstd1, 2.807,x_random_samle)\n",
    "UCL = upper_bound(smean1,sstd1, 2.807,x_random_samle)\n",
    "\n",
    "print(LCL)\n",
    "print(UCL)"
   ]
  },
  {
   "cell_type": "code",
   "execution_count": 19,
   "id": "bb74c4ba",
   "metadata": {},
   "outputs": [
    {
     "name": "stdout",
     "output_type": "stream",
     "text": [
      "357.8961050436025\n",
      "363.14389495639745\n"
     ]
    }
   ],
   "source": [
    "# 99% confident for S2\n",
    "LCL = lower_bound(smean2,sstd2,2.807,y_random_samle)\n",
    "UCL = upper_bound(smean2,sstd2,2.807,y_random_samle)\n",
    "\n",
    "print(LCL)\n",
    "print(UCL)"
   ]
  },
  {
   "cell_type": "code",
   "execution_count": 20,
   "id": "8dcbba09",
   "metadata": {},
   "outputs": [
    {
     "name": "stdout",
     "output_type": "stream",
     "text": [
      "358.79038828471886\n",
      "377.6496117152812\n"
     ]
    }
   ],
   "source": [
    "# 99% confident for S3\n",
    "\n",
    "LCL = lower_bound(smean3,sstd3,2.807,z_random_samle)\n",
    "UCL = upper_bound(smean3,sstd3,2.807,z_random_samle)\n",
    "\n",
    "print(LCL)\n",
    "print(UCL)"
   ]
  },
  {
   "cell_type": "markdown",
   "id": "92bdac82",
   "metadata": {},
   "source": [
    "# 2.6. Compare the population means of each sample with the estimated one given the samples"
   ]
  },
  {
   "cell_type": "code",
   "execution_count": 21,
   "id": "8641ba61",
   "metadata": {},
   "outputs": [
    {
     "name": "stdout",
     "output_type": "stream",
     "text": [
      "Population mean S1: 435.03\n"
     ]
    }
   ],
   "source": [
    "population_means_S1 = np.array(x).mean()\n",
    "print(\"Population mean S1: {:.2f}\".format(population_means_S1))"
   ]
  },
  {
   "cell_type": "code",
   "execution_count": 22,
   "id": "5acbd249",
   "metadata": {},
   "outputs": [
    {
     "name": "stdout",
     "output_type": "stream",
     "text": [
      "Sample mean: S1: 434.42\n"
     ]
    }
   ],
   "source": [
    "smean1=x_random_samle.mean()\n",
    "print('Sample mean: S1: {:.2f}'.format(smean1))"
   ]
  },
  {
   "cell_type": "code",
   "execution_count": 23,
   "id": "7a34399e",
   "metadata": {},
   "outputs": [
    {
     "name": "stdout",
     "output_type": "stream",
     "text": [
      "Population mean S2: 360.22\n"
     ]
    }
   ],
   "source": [
    "population_means_S2 = np.array(y).mean()\n",
    "print(\"Population mean S2: {:.2f}\".format(population_means_S2))"
   ]
  },
  {
   "cell_type": "code",
   "execution_count": 24,
   "id": "aa095c27",
   "metadata": {},
   "outputs": [
    {
     "name": "stdout",
     "output_type": "stream",
     "text": [
      "Sample mean: S2: 360.52\n"
     ]
    }
   ],
   "source": [
    "smean2=y_random_samle.mean()\n",
    "sstd2=y_random_samle.std()\n",
    "print('Sample mean: S2: {:.2f}'.format(smean2))"
   ]
  },
  {
   "cell_type": "code",
   "execution_count": 25,
   "id": "8d85add7",
   "metadata": {},
   "outputs": [
    {
     "name": "stdout",
     "output_type": "stream",
     "text": [
      "Population mean S3: 366.93\n"
     ]
    }
   ],
   "source": [
    "population_means_S3 = np.array(z).mean()\n",
    "print(\"Population mean S3: {:.2f}\".format(population_means_S3))"
   ]
  },
  {
   "cell_type": "code",
   "execution_count": 26,
   "id": "4deb3372",
   "metadata": {},
   "outputs": [
    {
     "name": "stdout",
     "output_type": "stream",
     "text": [
      "Sample mean: S3: 368.22\n"
     ]
    }
   ],
   "source": [
    "smean3=z_random_samle.mean()\n",
    "sstd3=z_random_samle.std()\n",
    "print('Sample mean: S3: {:.2f}'.format(smean3))"
   ]
  },
  {
   "cell_type": "markdown",
   "id": "cc3fa9cf",
   "metadata": {},
   "source": [
    "## So, Samples are unbiased and gives small sampling error. It indicates that samples gives good representation of the populations."
   ]
  },
  {
   "cell_type": "code",
   "execution_count": null,
   "id": "4812eef6",
   "metadata": {},
   "outputs": [],
   "source": []
  }
 ],
 "metadata": {
  "kernelspec": {
   "display_name": "Python 3 (ipykernel)",
   "language": "python",
   "name": "python3"
  },
  "language_info": {
   "codemirror_mode": {
    "name": "ipython",
    "version": 3
   },
   "file_extension": ".py",
   "mimetype": "text/x-python",
   "name": "python",
   "nbconvert_exporter": "python",
   "pygments_lexer": "ipython3",
   "version": "3.10.9"
  }
 },
 "nbformat": 4,
 "nbformat_minor": 5
}
